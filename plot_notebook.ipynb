{
  "nbformat": 4,
  "nbformat_minor": 0,
  "metadata": {
    "colab": {
      "name": "plot_notebook.ipynb",
      "provenance": [],
      "collapsed_sections": []
    },
    "kernelspec": {
      "name": "python3",
      "display_name": "Python 3"
    },
    "language_info": {
      "name": "python"
    }
  },
  "cells": [
    {
      "cell_type": "code",
      "execution_count": 1,
      "metadata": {
        "id": "S-MsfdjJXNTP"
      },
      "outputs": [],
      "source": [
        "PLOT_TO = 20\n",
        "dp_min = None\n",
        "def calculate(n):\n",
        "    global dp_min\n",
        "    dp = [[-1 for i in range(n+1)] for i in range(n+1) ]\n",
        "    dp_min = [ -1 for i in range(n+1)]\n",
        "    return calculate_k(n)\n",
        "\n",
        "def calculate_k(n):\n",
        "    global dp_min\n",
        "    if n == 0 or n == 1:\n",
        "        return n \n",
        "    if dp_min[n] != -1:\n",
        "        return dp_min[n]\n",
        "    min_value = 190000000000\n",
        "    k = 0\n",
        "\n",
        "    for i in range(1,n): \n",
        "        val = 2*(calculate_k(n-i)) + 2**i -1\n",
        "        if val < min_value:\n",
        "            min_value =  val\n",
        "            k = i\n",
        "    dp_min[n] = min_value \n",
        "    return min_value \n"
      ]
    },
    {
      "cell_type": "code",
      "source": [
        "def using_3_pegs(n):\n",
        "  return 2**n - 1"
      ],
      "metadata": {
        "id": "dx-sJd9XYSut"
      },
      "execution_count": 2,
      "outputs": []
    },
    {
      "cell_type": "code",
      "source": [
        "def using_4_pegs_unoptimized(n):\n",
        "  return 3* (2**(n//2) - 1)"
      ],
      "metadata": {
        "id": "shOiYQnNYbji"
      },
      "execution_count": 3,
      "outputs": []
    },
    {
      "cell_type": "code",
      "source": [
        "calculate(PLOT_TO)\n",
        "val_using_dp = dp_min\n",
        "val_using_dp[1] = 1"
      ],
      "metadata": {
        "id": "T5IhXJyoXxXK"
      },
      "execution_count": 4,
      "outputs": []
    },
    {
      "cell_type": "code",
      "source": [
        "x = [ i for i in range(1,PLOT_TO+1)]\n",
        "val_using_4 = map(using_4_pegs_unoptimized,x)\n",
        "val_using_3 = map(using_3_pegs,x)"
      ],
      "metadata": {
        "id": "8M3iOWemZxDh"
      },
      "execution_count": 5,
      "outputs": []
    },
    {
      "cell_type": "code",
      "source": [
        "val_using_4 = list(val_using_4)\n",
        "val_using_3 = list(val_using_3)"
      ],
      "metadata": {
        "id": "xMdSNT1Raic6"
      },
      "execution_count": 6,
      "outputs": []
    },
    {
      "cell_type": "code",
      "source": [
        "val_using_dp = val_using_dp[1:]"
      ],
      "metadata": {
        "id": "ZWIMI_JSa45k"
      },
      "execution_count": 7,
      "outputs": []
    },
    {
      "cell_type": "code",
      "source": [
        "import matplotlib.pyplot as plt\n",
        "plt.plot(x, val_using_dp, label = \"Using dynamic programming\")\n",
        "plt.plot(x, val_using_4, label = \"Using 4 pegs\")\n",
        "plt.legend()\n",
        "plt.savefig('4pegs-algorithms-compare.png')\n",
        "plt.show()"
      ],
      "metadata": {
        "colab": {
          "base_uri": "https://localhost:8080/",
          "height": 265
        },
        "id": "Z9_igfKj0k0K",
        "outputId": "989dce69-e676-44fa-fa0f-64c8dd6d6cae"
      },
      "execution_count": 15,
      "outputs": [
        {
          "output_type": "display_data",
          "data": {
            "text/plain": [
              "<Figure size 432x288 with 1 Axes>"
            ],
            "image/png": "[encoded data removed]"
          },
          "metadata": {
            "needs_background": "light"
          }
        }
      ]
    },
    {
      "cell_type": "code",
      "source": [
        "import matplotlib.pyplot as plt\n",
        "plt.plot(x, val_using_dp, label = \"Using dynamic programming\")\n",
        "plt.plot(x, val_using_4, label = \"Using 4 pegs\")\n",
        "plt.plot(x, val_using_3, label = \"Using 3 pegs\")\n",
        "plt.legend()\n",
        "plt.savefig('3pegs-vs-4pegs-algorithms-compare.png')\n",
        "plt.show()"
      ],
      "metadata": {
        "colab": {
          "base_uri": "https://localhost:8080/",
          "height": 276
        },
        "id": "2Kxq8cF6YBpw",
        "outputId": "0b33c428-e05e-420c-8941-43836f5b3c71"
      },
      "execution_count": 16,
      "outputs": [
        {
          "output_type": "display_data",
          "data": {
            "text/plain": [
              "<Figure size 432x288 with 1 Axes>"
            ],
            "image/png": "[encoded data removed]"
          },
          "metadata": {
            "needs_background": "light"
          }
        }
      ]
    },
    {
      "cell_type": "code",
      "source": [
        "val_using_3[-1]"
      ],
      "metadata": {
        "colab": {
          "base_uri": "https://localhost:8080/"
        },
        "id": "rkg29ges0Q-L",
        "outputId": "b394a7fa-2c4c-472a-b927-145dc0586098"
      },
      "execution_count": 10,
      "outputs": [
        {
          "output_type": "execute_result",
          "data": {
            "text/plain": [
              "1048575"
            ]
          },
          "metadata": {},
          "execution_count": 10
        }
      ]
    },
    {
      "cell_type": "code",
      "source": [
        "val_using_4[-1]"
      ],
      "metadata": {
        "colab": {
          "base_uri": "https://localhost:8080/"
        },
        "id": "9wR_ELXl0STp",
        "outputId": "34cae626-6159-47fd-b1a6-f21f3fdd564e"
      },
      "execution_count": 11,
      "outputs": [
        {
          "output_type": "execute_result",
          "data": {
            "text/plain": [
              "3069"
            ]
          },
          "metadata": {},
          "execution_count": 11
        }
      ]
    },
    {
      "cell_type": "code",
      "source": [
        "val_using_dp[-1]"
      ],
      "metadata": {
        "colab": {
          "base_uri": "https://localhost:8080/"
        },
        "id": "xVM21hUH0Zzh",
        "outputId": "7a6a6696-1217-4fca-9f90-7d3b96708cc1"
      },
      "execution_count": 12,
      "outputs": [
        {
          "output_type": "execute_result",
          "data": {
            "text/plain": [
              "289"
            ]
          },
          "metadata": {},
          "execution_count": 12
        }
      ]
    }
  ]
}