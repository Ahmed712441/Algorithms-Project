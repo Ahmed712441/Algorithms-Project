{
  "nbformat": 4,
  "nbformat_minor": 0,
  "metadata": {
    "colab": {
      "name": "plot_task2.ipynb",
      "provenance": [],
      "collapsed_sections": []
    },
    "kernelspec": {
      "name": "python3",
      "display_name": "Python 3"
    },
    "language_info": {
      "name": "python"
    }
  },
  "cells": [
    {
      "cell_type": "code",
      "execution_count": 4,
      "metadata": {
        "id": "EJwtz_2mkW47"
      },
      "outputs": [],
      "source": [
        "dpArray=[]\n",
        "pegs2=[]\n",
        "def createArray(n):\n",
        "    return [1] * n\n",
        "\n",
        "def getSolution1(array):\n",
        "    global dpArray ,pegs2\n",
        "    # print the array at the start of each function call\n",
        "    \n",
        "    # Dynamic programming solved base case\n",
        "    if (array,\"Solved\") in dpArray:\n",
        "        \n",
        "        return True\n",
        "    # Dynamic programming unsolvable base case\n",
        "    if (array,\"Unsolvable\") in dpArray:\n",
        "        \n",
        "        return False\n",
        "    # Base case of the problem\n",
        "    if goalTest(array):\n",
        "        pegs2.append(array.index(1)+1)  # get the place of the remaining peg\n",
        "        # print(\"SOLVED!!\")\n",
        "        return True\n",
        "\n",
        "    moves = []\n",
        "    for i in range(len(array)):\n",
        "        if i < len(array) - 2:\n",
        "            if array[i] == 1 and array[i + 1] == 1 and array[i + 2] == 0:\n",
        "                moves.append((i, 'right'))\n",
        "        if i > 1:\n",
        "            if array[i] == 1 and array[i - 1] == 1 and array[i - 2] == 0:\n",
        "                moves.append((i, 'left'))\n",
        "    # if len(moves) == 0:\n",
        "    #     # there are no possible moves to make\n",
        "    #     print(\"This board is unsolvable\")\n",
        "    # else:\n",
        "    #     print(\"Possible moves are\",moves)\n",
        "    # try each possible move until the new configuration found in dpArray(solved or unsolvable) or it's the base case\n",
        "    solved = False\n",
        "    for move in moves:\n",
        "        newArray = createNewConfig(array, move)\n",
        "        if getSolution1(newArray):\n",
        "            # consider this new config as a solved board\n",
        "            dpArray.append((newArray,\"Solved\"))\n",
        "            solved = True    \n",
        "        else:\n",
        "            # store that this config can't be solved\n",
        "            dpArray.append((newArray,\"Unsolvable\"))\n",
        "        # continue to the next iteration of the for loop\n",
        "        # continue\n",
        "\n",
        "    return solved\n",
        "\n",
        "\n",
        "def createNewConfig(oldConfig, move):\n",
        "    index, direction = move\n",
        "    newConfig = [element for element in oldConfig]\n",
        "    if direction == 'right':\n",
        "        newConfig[index] = 0\n",
        "        newConfig[index + 1] = 0\n",
        "        newConfig[index + 2] = 1\n",
        "    elif direction == 'left':\n",
        "        newConfig[index] = 0\n",
        "        newConfig[index - 1] = 0\n",
        "        newConfig[index - 2] = 1\n",
        "    return newConfig\n",
        "\n",
        "\n",
        "def goalTest(array):\n",
        "    if sum(array) == 1:\n",
        "        return True\n",
        "    return False\n",
        "\n",
        "\n",
        "\n",
        "def getInitialHoles1(board):\n",
        "    indices = []\n",
        "    for i in range(len(board)):\n",
        "        # print(\"Trying the empty space at place \"+str(i+1),sep=\" \")\n",
        "        b = [element for element in board]\n",
        "        b[i] = 0\n",
        "        if getSolution1(b):\n",
        "            indices.append(i + 1)\n",
        "    return indices\n",
        "\n",
        "def compute_dynamic_prog(n):\n",
        "  global dpArray ,pegs2\n",
        "  dpArray = []\n",
        "  pegs = []\n",
        "  getInitialHoles1(createArray(n))\n",
        "  return len(dpArray)"
      ]
    },
    {
      "cell_type": "code",
      "source": [
        "compute_dynamic_prog(8)"
      ],
      "metadata": {
        "colab": {
          "base_uri": "https://localhost:8080/"
        },
        "id": "y2qYhP2PlMKT",
        "outputId": "f3154ea0-10fd-4199-9344-ef1faa6f8e75"
      },
      "execution_count": 7,
      "outputs": [
        {
          "output_type": "execute_result",
          "data": {
            "text/plain": [
              "58"
            ]
          },
          "metadata": {},
          "execution_count": 7
        }
      ]
    },
    {
      "cell_type": "code",
      "source": [
        "# dpArray=[]\n",
        "# pegs2=[]\n",
        "steps = 0\n",
        "def createArray(n):\n",
        "    return [1] * n\n",
        "\n",
        "def getSolution(array):\n",
        "    global steps\n",
        "    \n",
        "    if goalTest(array):\n",
        "        \n",
        "        return True\n",
        "\n",
        "    moves = []\n",
        "    for i in range(len(array)):\n",
        "        if i < len(array) - 2:\n",
        "            if array[i] == 1 and array[i + 1] == 1 and array[i + 2] == 0:\n",
        "                moves.append((i, 'right'))\n",
        "        if i > 1:\n",
        "            if array[i] == 1 and array[i - 1] == 1 and array[i - 2] == 0:\n",
        "                moves.append((i, 'left'))\n",
        "    steps += len(moves)\n",
        "    solved = False\n",
        "    for move in moves:\n",
        "        newArray = createNewConfig(array, move)\n",
        "        if getSolution(newArray):\n",
        "            # consider this new config as a solved board\n",
        "            dpArray.append((newArray,\"Solved\"))\n",
        "            solved = True    \n",
        "        else:\n",
        "            # store that this config can't be solved\n",
        "            dpArray.append((newArray,\"Unsolvable\"))\n",
        "        # continue to the next iteration of the for loop\n",
        "        # continue\n",
        "\n",
        "    return solved\n",
        "\n",
        "\n",
        "def createNewConfig(oldConfig, move):\n",
        "    index, direction = move\n",
        "    newConfig = [element for element in oldConfig]\n",
        "    if direction == 'right':\n",
        "        newConfig[index] = 0\n",
        "        newConfig[index + 1] = 0\n",
        "        newConfig[index + 2] = 1\n",
        "    elif direction == 'left':\n",
        "        newConfig[index] = 0\n",
        "        newConfig[index - 1] = 0\n",
        "        newConfig[index - 2] = 1\n",
        "    return newConfig\n",
        "\n",
        "\n",
        "def goalTest(array):\n",
        "    if sum(array) == 1:\n",
        "        return True\n",
        "    return False\n",
        "\n",
        "\n",
        "\n",
        "def getInitialHoles(board):\n",
        "    indices = []\n",
        "    for i in range(len(board)):\n",
        "        b = [element for element in board]\n",
        "        b[i] = 0\n",
        "        if getSolution(b):\n",
        "            indices.append(i + 1)\n",
        "    return indices\n",
        "\n",
        "def compute_brute_force_prog(n):\n",
        "  global steps \n",
        "  steps = 0\n",
        "  getInitialHoles(createArray(n))\n",
        "  return steps"
      ],
      "metadata": {
        "id": "a-EgBz94lT1y"
      },
      "execution_count": 6,
      "outputs": []
    },
    {
      "cell_type": "code",
      "source": [
        "compute_brute_force_prog(8)"
      ],
      "metadata": {
        "colab": {
          "base_uri": "https://localhost:8080/"
        },
        "id": "5BdfzyWpmx8w",
        "outputId": "17bf3873-6900-489a-df1b-b6e8a38d1ec5"
      },
      "execution_count": 8,
      "outputs": [
        {
          "output_type": "execute_result",
          "data": {
            "text/plain": [
              "170"
            ]
          },
          "metadata": {},
          "execution_count": 8
        }
      ]
    },
    {
      "cell_type": "code",
      "source": [
        "PLOT_TO = 20\n",
        "x = [ i for i in range(4,PLOT_TO+1)]\n",
        "val_using_dp = map(compute_dynamic_prog,x)\n",
        "val_using_bruteforce = map(compute_brute_force_prog,x)"
      ],
      "metadata": {
        "id": "H5rPZ_KWm4zB"
      },
      "execution_count": 21,
      "outputs": []
    },
    {
      "cell_type": "code",
      "source": [
        "val_using_dp = list(val_using_dp)\n",
        "val_using_bruteforce = list(val_using_bruteforce)"
      ],
      "metadata": {
        "id": "RTLFb3_znlv5"
      },
      "execution_count": 22,
      "outputs": []
    },
    {
      "cell_type": "code",
      "source": [
        "import matplotlib.pyplot as plt\n",
        "line, = plt.plot(x, val_using_dp, label = \"Using dp\")\n",
        "line2, = plt.plot(x, val_using_bruteforce, label = \"without dp\")\n",
        "plt.legend()\n",
        "plt.savefig('task2-2.png')\n",
        "plt.show()"
      ],
      "metadata": {
        "colab": {
          "base_uri": "https://localhost:8080/",
          "height": 276
        },
        "id": "SALqfxkEny5l",
        "outputId": "8e19130a-bb4a-49f8-95cf-3304ce051035"
      },
      "execution_count": 29,
      "outputs": [
        {
          "output_type": "display_data",
          "data": {
            "text/plain": [
              "<Figure size 432x288 with 1 Axes>"
            ],
            "image/png": "[encoded data removed]"
          },
          "metadata": {
            "needs_background": "light"
          }
        }
      ]
    },
    {
      "cell_type": "code",
      "source": [
        "val_using_dp"
      ],
      "metadata": {
        "colab": {
          "base_uri": "https://localhost:8080/"
        },
        "id": "0xByXke3n-c6",
        "outputId": "fa8af4d7-3cdc-4743-c127-d1afc213d9f4"
      },
      "execution_count": 23,
      "outputs": [
        {
          "output_type": "execute_result",
          "data": {
            "text/plain": [
              "[6,\n",
              " 10,\n",
              " 20,\n",
              " 30,\n",
              " 58,\n",
              " 86,\n",
              " 156,\n",
              " 226,\n",
              " 374,\n",
              " 522,\n",
              " 796,\n",
              " 1070,\n",
              " 1530,\n",
              " 1990,\n",
              " 2708,\n",
              " 3426,\n",
              " 4486]"
            ]
          },
          "metadata": {},
          "execution_count": 23
        }
      ]
    },
    {
      "cell_type": "code",
      "source": [
        "val_using_bruteforce"
      ],
      "metadata": {
        "colab": {
          "base_uri": "https://localhost:8080/"
        },
        "id": "cQUhuufroTs5",
        "outputId": "c24b4279-0667-4ed6-849c-b863f7219ca0"
      },
      "execution_count": 25,
      "outputs": [
        {
          "output_type": "execute_result",
          "data": {
            "text/plain": [
              "[6,\n",
              " 12,\n",
              " 32,\n",
              " 54,\n",
              " 170,\n",
              " 288,\n",
              " 964,\n",
              " 1642,\n",
              " 5350,\n",
              " 9060,\n",
              " 28472,\n",
              " 47886,\n",
              " 147138,\n",
              " 246392,\n",
              " 750156,\n",
              " 1253922,\n",
              " 3815710]"
            ]
          },
          "metadata": {},
          "execution_count": 25
        }
      ]
    },
    {
      "cell_type": "code",
      "source": [
        ""
      ],
      "metadata": {
        "id": "lHPTfUj3rwBR"
      },
      "execution_count": null,
      "outputs": []
    }
  ]
}